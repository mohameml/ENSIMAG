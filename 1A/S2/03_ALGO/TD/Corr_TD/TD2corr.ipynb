{
 "cells": [
  {
   "cell_type": "markdown",
   "metadata": {},
   "source": [
    "# TD 2 - Merge sort"
   ]
  },
  {
   "cell_type": "code",
   "execution_count": 3,
   "metadata": {},
   "outputs": [],
   "source": [
    "from random import randint\n",
    "import time"
   ]
  },
  {
   "cell_type": "code",
   "execution_count": 52,
   "metadata": {},
   "outputs": [],
   "source": [
    "def mergeSort(T):\n",
    "    \"\"\"\n",
    "        Sort the list T using the merge sort algorithm\n",
    "        input   : list T\n",
    "        returns : T sorted by <\n",
    "    \"\"\"\n",
    "    if len(T) == 1:\n",
    "        return T\n",
    "    else:\n",
    "        center = len(T) // 2\n",
    "        left   = mergeSort(T[:center])\n",
    "        right  = mergeSort(T[center:])\n",
    "        return merge(left,right)\n",
    "\n",
    "def merge(T1, T2):\n",
    "    \"\"\"\n",
    "        Merge sorted lists T1 and T2 into a sorted list\n",
    "        input   : sorted lists T1, T2\n",
    "        returns : sorted list of elements in T1 and T2\n",
    "    \"\"\"\n",
    "    if len(T1) == 0:\n",
    "        return T2\n",
    "    \n",
    "    if len(T2) == 0:\n",
    "        return T1\n",
    "    \n",
    "    result = []\n",
    "    i, j = 0, 0\n",
    "    \n",
    "    while i < len(T1) and j < len(T2):\n",
    "        if T1[i] <= T2[j]:\n",
    "            result.append(T1[i])\n",
    "            i += 1\n",
    "        else:\n",
    "            result.append(T2[j])\n",
    "            j += 1\n",
    "            \n",
    "    if i == len(T1):\n",
    "        result += T2[j:]\n",
    "    else:\n",
    "        result += T1[i:]\n",
    "        \n",
    "    return result\n"
   ]
  },
  {
   "cell_type": "code",
   "execution_count": 42,
   "metadata": {
    "scrolled": false
   },
   "outputs": [
    {
     "name": "stdout",
     "output_type": "stream",
     "text": [
      "Random table T:\n",
      " [97, 34, 21, 21, 34, 76, 60, 98, 38, 91, 98, 20, 60, 95, 8, 68] \n",
      "\n",
      "|-- mergeSort([97, 34, 21, 21, 34, 76, 60, 98, 38, 91, 98, 20, 60, 95, 8, 68])\n",
      "|  |-- mergeSort([97, 34, 21, 21, 34, 76, 60, 98])\n",
      "|  |  |-- mergeSort([97, 34, 21, 21])\n",
      "|  |  |  |-- mergeSort([97, 34])\n",
      "|  |  |  |  |-- mergeSort([97])\n",
      "|  |  |  |  |  |-- return [97]\n",
      "|  |  |  |  |-- mergeSort([34])\n",
      "|  |  |  |  |  |-- return [34]\n",
      "|  |  |  |  |-- return [34, 97]\n",
      "|  |  |  |-- mergeSort([21, 21])\n",
      "|  |  |  |  |-- mergeSort([21])\n",
      "|  |  |  |  |  |-- return [21]\n",
      "|  |  |  |  |-- mergeSort([21])\n",
      "|  |  |  |  |  |-- return [21]\n",
      "|  |  |  |  |-- return [21, 21]\n",
      "|  |  |  |-- return [21, 21, 34, 97]\n",
      "|  |  |-- mergeSort([34, 76, 60, 98])\n",
      "|  |  |  |-- mergeSort([34, 76])\n",
      "|  |  |  |  |-- mergeSort([34])\n",
      "|  |  |  |  |  |-- return [34]\n",
      "|  |  |  |  |-- mergeSort([76])\n",
      "|  |  |  |  |  |-- return [76]\n",
      "|  |  |  |  |-- return [34, 76]\n",
      "|  |  |  |-- mergeSort([60, 98])\n",
      "|  |  |  |  |-- mergeSort([60])\n",
      "|  |  |  |  |  |-- return [60]\n",
      "|  |  |  |  |-- mergeSort([98])\n",
      "|  |  |  |  |  |-- return [98]\n",
      "|  |  |  |  |-- return [60, 98]\n",
      "|  |  |  |-- return [34, 60, 76, 98]\n",
      "|  |  |-- return [21, 21, 34, 34, 60, 76, 97, 98]\n",
      "|  |-- mergeSort([38, 91, 98, 20, 60, 95, 8, 68])\n",
      "|  |  |-- mergeSort([38, 91, 98, 20])\n",
      "|  |  |  |-- mergeSort([38, 91])\n",
      "|  |  |  |  |-- mergeSort([38])\n",
      "|  |  |  |  |  |-- return [38]\n",
      "|  |  |  |  |-- mergeSort([91])\n",
      "|  |  |  |  |  |-- return [91]\n",
      "|  |  |  |  |-- return [38, 91]\n",
      "|  |  |  |-- mergeSort([98, 20])\n",
      "|  |  |  |  |-- mergeSort([98])\n",
      "|  |  |  |  |  |-- return [98]\n",
      "|  |  |  |  |-- mergeSort([20])\n",
      "|  |  |  |  |  |-- return [20]\n",
      "|  |  |  |  |-- return [20, 98]\n",
      "|  |  |  |-- return [20, 38, 91, 98]\n",
      "|  |  |-- mergeSort([60, 95, 8, 68])\n",
      "|  |  |  |-- mergeSort([60, 95])\n",
      "|  |  |  |  |-- mergeSort([60])\n",
      "|  |  |  |  |  |-- return [60]\n",
      "|  |  |  |  |-- mergeSort([95])\n",
      "|  |  |  |  |  |-- return [95]\n",
      "|  |  |  |  |-- return [60, 95]\n",
      "|  |  |  |-- mergeSort([8, 68])\n",
      "|  |  |  |  |-- mergeSort([8])\n",
      "|  |  |  |  |  |-- return [8]\n",
      "|  |  |  |  |-- mergeSort([68])\n",
      "|  |  |  |  |  |-- return [68]\n",
      "|  |  |  |  |-- return [8, 68]\n",
      "|  |  |  |-- return [8, 60, 68, 95]\n",
      "|  |  |-- return [8, 20, 38, 60, 68, 91, 95, 98]\n",
      "|  |-- return [8, 20, 21, 21, 34, 34, 38, 60, 60, 68, 76, 91, 95, 97, 98, 98]\n",
      "\n",
      "Sorted array:  [8, 20, 21, 21, 34, 34, 38, 60, 60, 68, 76, 91, 95, 97, 98, 98]\n"
     ]
    }
   ],
   "source": [
    "Tsize = 16\n",
    "T     = [randint(0,100) for _ in range(Tsize)]\n",
    "print(\"Random table T:\\n\", T, \"\\n\")\n",
    "\n",
    "mergeSort=trace(mergeSort) # after wrapping the function mergeSort we have to reset its definition, otherwise we wrap the wrapper\n",
    "\n",
    "print('\\nSorted array: ', traced_ms(T))"
   ]
  },
  {
   "cell_type": "markdown",
   "metadata": {},
   "source": [
    "For a table of size $n$, the tree of the trace goes down $\\log n+1$ steps and \"backs up\" $\\log n$ steps, hence a total tree depth\n",
    "$$2\\log n+1$$\n",
    "\n",
    "The fusion operations occur when going back up in the tree.\n",
    "\n",
    "Summing on every level of the tree gives a cost of $n$ every time (because the $n$ entries are spread out on every depth level of the tree). The total complexity is then of order\n",
    "$$ O(n \\log n) $$\n",
    "\n",
    "In memory terms, there is no replacement \"in place\", so that $2n$ is required to store input and output."
   ]
  },
  {
   "cell_type": "markdown",
   "metadata": {},
   "source": [
    "# 2. Iterative version\n",
    "\n",
    "This version is not easy to implement without pen and paper! The table is divided in blocks of two terms which are sorted, and then merged in blocks of four terms, then eight, etc.\n",
    "The implementation keeps track of the number of \"intervals\" of blocks, the number of which decreases as merging occurs.\n",
    "\n",
    "<tt>\n",
    "Function: iterativeMergeSort<br>\n",
    "INPUT   : list T<br>\n",
    "OUTPUT  : iterative dichotomic sorting of T\n",
    "</tt>\n"
   ]
  },
  {
   "cell_type": "code",
   "execution_count": 47,
   "metadata": {},
   "outputs": [],
   "source": [
    "def iterativeMergeSort(T):\n",
    "    \"\"\"\n",
    "        iterative version of the merge-sort algorithm\n",
    "        input   : list T\n",
    "        returns : T sorted by <\n",
    "    \"\"\"\n",
    "    intervals = [(j,j+1) for j in range(len(T))] # sliding window of intervals\n",
    "    while len(intervals) > 1:\n",
    "        i=0\n",
    "        \n",
    "        while i < len(intervals)-1:\n",
    "            I1 = intervals[i]\n",
    "            I2 = intervals[i+1]\n",
    "            print(range(I1[0], I1[1]), range(I2[0], I2[1]),\" --> \",range(I1[0], I2[1]))\n",
    "            T[I1[0]:I2[1]] = merge(T[I1[0]:I1[1]], T[I2[0]:I2[1]])\n",
    "            print(T)\n",
    "            intervals[i:i+2] = [(I1[0],I2[1])]  # merge intervals just processed\n",
    "            i+=1\n",
    "            \n",
    "    return T"
   ]
  },
  {
   "cell_type": "code",
   "execution_count": 49,
   "metadata": {},
   "outputs": [
    {
     "name": "stdout",
     "output_type": "stream",
     "text": [
      "Random table T:\n",
      " [37, 24, 9, 61, 9, 62, 7, 46] \n",
      "\n",
      "range(0, 1) range(1, 2)  -->  range(0, 2)\n",
      "[24, 37, 9, 61, 9, 62, 7, 46]\n",
      "range(2, 3) range(3, 4)  -->  range(2, 4)\n",
      "[24, 37, 9, 61, 9, 62, 7, 46]\n",
      "range(4, 5) range(5, 6)  -->  range(4, 6)\n",
      "[24, 37, 9, 61, 9, 62, 7, 46]\n",
      "range(6, 7) range(7, 8)  -->  range(6, 8)\n",
      "[24, 37, 9, 61, 9, 62, 7, 46]\n",
      "range(0, 2) range(2, 4)  -->  range(0, 4)\n",
      "[9, 24, 37, 61, 9, 62, 7, 46]\n",
      "range(4, 6) range(6, 8)  -->  range(4, 8)\n",
      "[9, 24, 37, 61, 7, 9, 46, 62]\n",
      "range(0, 4) range(4, 8)  -->  range(0, 8)\n",
      "[7, 9, 9, 24, 37, 46, 61, 62]\n",
      "\n",
      "Iterative merge-sort:  [7, 9, 9, 24, 37, 46, 61, 62]\n"
     ]
    }
   ],
   "source": [
    "Tsize = 8\n",
    "T     = [randint(0,100) for _ in range(Tsize)]\n",
    "print(\"Random table T:\\n\",T,\"\\n\")\n",
    "\n",
    "print(\"\\nIterative merge-sort: \",iterativeMergeSort(T))"
   ]
  },
  {
   "cell_type": "markdown",
   "metadata": {},
   "source": [
    "# 3. Combination with insertion sort\n",
    "\n"
   ]
  },
  {
   "cell_type": "code",
   "execution_count": 50,
   "metadata": {},
   "outputs": [],
   "source": [
    "def insertionSort(T):\n",
    "    \"\"\"\n",
    "        Sort T using insertion sort\n",
    "        input   : list T\n",
    "        returns : T sorted by <\n",
    "    \"\"\"\n",
    "    for i, t in enumerate(T):\n",
    "        j = i-1\n",
    "        print(\"\\ni =\",i)\n",
    "        while j >= 0 and T[j] > t:\n",
    "            print(\"|-- j =\",j,T)\n",
    "            T[j+1], T[j] = T[j], t\n",
    "            j -= 1\n",
    "    return T            "
   ]
  },
  {
   "cell_type": "code",
   "execution_count": 51,
   "metadata": {},
   "outputs": [
    {
     "name": "stdout",
     "output_type": "stream",
     "text": [
      "Random table T:\n",
      " [65, 13, 93, 49, 1, 86, 93, 29] \n",
      "\n",
      "\n",
      "i = 0\n",
      "\n",
      "i = 1\n",
      "|-- j = 0 [65, 13, 93, 49, 1, 86, 93, 29]\n",
      "\n",
      "i = 2\n",
      "\n",
      "i = 3\n",
      "|-- j = 2 [13, 65, 93, 49, 1, 86, 93, 29]\n",
      "|-- j = 1 [13, 65, 49, 93, 1, 86, 93, 29]\n",
      "\n",
      "i = 4\n",
      "|-- j = 3 [13, 49, 65, 93, 1, 86, 93, 29]\n",
      "|-- j = 2 [13, 49, 65, 1, 93, 86, 93, 29]\n",
      "|-- j = 1 [13, 49, 1, 65, 93, 86, 93, 29]\n",
      "|-- j = 0 [13, 1, 49, 65, 93, 86, 93, 29]\n",
      "\n",
      "i = 5\n",
      "|-- j = 4 [1, 13, 49, 65, 93, 86, 93, 29]\n",
      "\n",
      "i = 6\n",
      "\n",
      "i = 7\n",
      "|-- j = 6 [1, 13, 49, 65, 86, 93, 93, 29]\n",
      "|-- j = 5 [1, 13, 49, 65, 86, 93, 29, 93]\n",
      "|-- j = 4 [1, 13, 49, 65, 86, 29, 93, 93]\n",
      "|-- j = 3 [1, 13, 49, 65, 29, 86, 93, 93]\n",
      "|-- j = 2 [1, 13, 49, 29, 65, 86, 93, 93]\n",
      "\n",
      "Insertion sorting of T:  [1, 13, 29, 49, 65, 86, 93, 93]\n"
     ]
    }
   ],
   "source": [
    "Tsize = 8\n",
    "T     = [randint(0,100) for _ in range(Tsize)]\n",
    "print(\"Random table T:\\n\",T,\"\\n\")\n",
    "\n",
    "print(\"\\nInsertion sorting of T: \",insertionSort(T))"
   ]
  },
  {
   "cell_type": "markdown",
   "metadata": {},
   "source": [
    "In the worst case, for a list of size $k$, insertion sort performs $\\sum_{i=1}^k i = O(k^2)$ comparisons/exchanges (worst case if sorted in reverse). So, after $i=\\log (n/k)$ steps of dichotomy by <tt>mergeSort</tt> of a table of size $n$, the total cost of insertion sort is \n",
    "$$O(k^2(n/k))=O(kn).$$\n",
    "\n",
    "The additional cost of the $i=\\log (n/k)$ <tt>mergeSort</tt> operations is $O(n\\log (n/k))$, leading up to a final total cost of:\n",
    "$$ O(nk + n\\log (n/k)).$$\n",
    "\n",
    "The best choice for $k$ is when the two complexities in the sum are of the same order, so $k\\sim \\log(n/k)=\\log n - \\log k$, which in the first order is \n",
    "$$ k \\sim \\log n$$\n",
    "and the resulting total cost is\n",
    "$$ O(n\\log n). $$"
   ]
  },
  {
   "cell_type": "markdown",
   "metadata": {},
   "source": [
    "## EXTRAS"
   ]
  },
  {
   "cell_type": "code",
   "execution_count": 35,
   "metadata": {},
   "outputs": [],
   "source": [
    "from functools import wraps\n",
    "\n",
    "def trace(func):\n",
    "    func_name = func.__name__\n",
    "    separator = '|  '\n",
    "\n",
    "    trace.recursion_depth = 0\n",
    "\n",
    "    @wraps(func)\n",
    "    def traced_func(*args, **kwargs):\n",
    "\n",
    "        # repeat separator N times (where N is recursion depth)\n",
    "        # `map(str, args)` prepares the iterable with str representation of positional arguments\n",
    "        # `\", \".join(map(str, args))` will generate comma-separated list of positional arguments\n",
    "        # `\"x\"*5` will print `\"xxxxx\"` - so we can use multiplication operator to repeat separator\n",
    "        print(f'{separator * trace.recursion_depth}|-- {func_name}({\", \".join(map(str, args))})')\n",
    "        # we're diving in\n",
    "        trace.recursion_depth += 1\n",
    "        result = func(*args, **kwargs)\n",
    "        # going out of that level of recursion\n",
    "        trace.recursion_depth -= 1\n",
    "        # result is printed on the next level\n",
    "        print(f'{separator * (trace.recursion_depth + 1)}|-- return {result}')\n",
    "\n",
    "        return result\n",
    "\n",
    "    return traced_func"
   ]
  },
  {
   "cell_type": "code",
   "execution_count": null,
   "metadata": {},
   "outputs": [],
   "source": []
  }
 ],
 "metadata": {
  "kernelspec": {
   "display_name": "Python 3",
   "language": "python",
   "name": "python3"
  },
  "language_info": {
   "codemirror_mode": {
    "name": "ipython",
    "version": 3
   },
   "file_extension": ".py",
   "mimetype": "text/x-python",
   "name": "python",
   "nbconvert_exporter": "python",
   "pygments_lexer": "ipython3",
   "version": "3.10.8 (tags/v3.10.8:aaaf517, Oct 11 2022, 16:50:30) [MSC v.1933 64 bit (AMD64)]"
  },
  "vscode": {
   "interpreter": {
    "hash": "5f0bf9187a3464cf65c2d842878e72be50a110f317e78f034df3ffd9ef5c1ecb"
   }
  }
 },
 "nbformat": 4,
 "nbformat_minor": 4
}
