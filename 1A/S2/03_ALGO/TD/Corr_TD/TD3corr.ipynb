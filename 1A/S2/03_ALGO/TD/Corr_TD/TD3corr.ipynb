{
 "cells": [
  {
   "cell_type": "markdown",
   "metadata": {},
   "source": [
    "# TD 3 - Divide and Conquer"
   ]
  },
  {
   "cell_type": "code",
   "execution_count": 3,
   "metadata": {},
   "outputs": [],
   "source": [
    "import numpy as np\n",
    "import random"
   ]
  },
  {
   "cell_type": "markdown",
   "metadata": {},
   "source": [
    "# 1. Dominating Element\n",
    "\n",
    "We start by defining a function for each of the following tasks:\n",
    "- count the number of occurrences of an element in a table\n",
    "- check whether a given value is dominant in a table\n",
    "- compute the dominant element of a table if it exists\n"
   ]
  },
  {
   "cell_type": "code",
   "execution_count": 24,
   "metadata": {},
   "outputs": [],
   "source": [
    "def countOccurrences(t, T):\n",
    "    \"\"\"\n",
    "        input  : value t, list or iterator T\n",
    "        return : number of occurrences of t in T\n",
    "    \"\"\"\n",
    "    return sum(1 for e in T if e == t)\n",
    "\n",
    "def isDominant(t,T):\n",
    "    \"\"\"\n",
    "        input   : value t, list T\n",
    "        returns : True if t is a dominant element in T, False otherwise\n",
    "    \"\"\"\n",
    "    return countOccurrences(t, T) > len(T) / 2\n",
    "\n",
    "def dominant(T):\n",
    "    \"\"\"\n",
    "        input   : list T\n",
    "        returns : the (unique) dominant element in T or None if no such element exists\n",
    "    \"\"\"\n",
    "    return next((e for e in T[:(len(T)+1)//2] if isDominant(e, T)), None)\n"
   ]
  },
  {
   "cell_type": "markdown",
   "metadata": {},
   "source": [
    "Note that the next value of a generator is computed only when needed. This is known as \"lazy evaluation\". The algorithm is quite naive and has worst case complexity of $O(n^2/2)$. Can you give a worst-case instance ?"
   ]
  },
  {
   "cell_type": "code",
   "execution_count": 28,
   "metadata": {},
   "outputs": [
    {
     "name": "stdout",
     "output_type": "stream",
     "text": [
      "Random table T:\n",
      " [1, 1, 0, 0, 0, 0, 0, 0] \n",
      "\n",
      "Number of 1s in T: 2\n",
      "\n",
      "Is 1 dominant?: False\n",
      "\n",
      "Dominant term: 0\n"
     ]
    }
   ],
   "source": [
    "# create a table of size Tsize filled randomly with 0 and 1\n",
    "Tsize = 8 \n",
    "T = [random.randint(0, 1) for _ in range(Tsize)]\n",
    "\n",
    "print(\"Random table T:\\n\",T,\"\\n\")\n",
    "\n",
    "# check whether 1 is dominant and print the dominant element\n",
    "print(\"Number of 1s in T:\", countOccurrences(1, T))\n",
    "print(\"\\nIs 1 dominant?:\", isDominant(1, T))\n",
    "\n",
    "print(\"\\nDominant term:\",dominant(T))"
   ]
  },
  {
   "cell_type": "markdown",
   "metadata": {},
   "source": [
    "## 1.1. Divide and Conquer\n",
    "\n",
    "We use here a recursive bisection approach using the fact that a dominant value of <tt>T</tt> must dominate one the two lists obtained by cutting <tt>T</tt> in the middle.\n"
   ]
  },
  {
   "cell_type": "code",
   "execution_count": 31,
   "metadata": {},
   "outputs": [],
   "source": [
    "def divideAndConquer(T):\n",
    "    \"\"\"\n",
    "        input   : list T\n",
    "        returns : the dominant element in T if it exists, None otherwise\n",
    "    \"\"\"\n",
    "    if len(T)==1:\n",
    "        return T[0]\n",
    "    center= len(T)//2\n",
    "    left  = divideAndConquer(T[:center])\n",
    "    right = divideAndConquer(T[center:])\n",
    "    if left == right:\n",
    "        return left\n",
    "    if isDominant(right,T):\n",
    "        return right\n",
    "    if isDominant(left,T):\n",
    "        return left\n",
    "    return None\n",
    "    "
   ]
  },
  {
   "cell_type": "code",
   "execution_count": 37,
   "metadata": {},
   "outputs": [
    {
     "name": "stdout",
     "output_type": "stream",
     "text": [
      "Random table T:\n",
      " [2, 0, 1, 2, 2, 2, 2, 2, 0, 2] \n",
      "\n",
      "Number of 0s : 2, 1s : 1, 2s : 7\n",
      "Dominant term by divide and conquer:  2\n"
     ]
    }
   ],
   "source": [
    "# create a table of size Tsize filled randomly with 0, 1, 2\n",
    "Tsize = 10 \n",
    "T = [random.randint(0, 2) for _ in range(Tsize)]\n",
    "\n",
    "# print info and check for a dominant element\n",
    "print(\"Random table T:\\n\",T,\"\\n\")\n",
    "print(\"Number of 0s : {}, 1s : {}, 2s : {}\".format(T.count(0), T.count(1), T.count(2)))\n",
    "\n",
    "print(\"Dominant term by divide and conquer: \",divideAndConquer(T))"
   ]
  },
  {
   "cell_type": "markdown",
   "metadata": {},
   "source": [
    "The complexity is here such that $$C(n)=2C(n/2)+2n$$ in the worst case. By the master theorem, this gives: \n",
    "$$C(n)=O(n\\log n)$$"
   ]
  },
  {
   "cell_type": "markdown",
   "metadata": {},
   "source": [
    "## 1.2. Variation"
   ]
  },
  {
   "cell_type": "markdown",
   "metadata": {},
   "source": [
    "If we compare the values of <tt>T</tt> by successive pairs, removing those which have different values and only keeping one of the two in case of equality, starting from $n$ values, a maximum of $n/2$ is maintained (the case of all pairwise equalities).\n",
    "\n",
    "To confirm that a dominant element <tt>e</tt> of number $k$ of occurrences in <tt>T</tt> (i.e., $k>n/2$, or more accurately $k\\geq n/2-1/2$ in both odd and even $n$'s) is still dominant after this process, consider a given pair:\n",
    "\n",
    " * if it does not contain <tt>e</tt>, $n$ is decreased but not $k$\n",
    " * if it contains <tt>e</tt> and another value, then $n\\to n-2$ and $k\\to k-1$ and of course $k-1>(n-2)/2=n/2-1$\n",
    " * if it contains twice <tt>e</tt>, then $n\\to n-1$ and $k\\to k-1$, and $k-1\\geq (n-1)/2-1/2=n/2-1$, that is $k\\geq n/2\\geq n/2-1/2$ both for even and off $n$'s.\n",
    " \n",
    "We obtain the following algorithm:"
   ]
  },
  {
   "cell_type": "code",
   "execution_count": 40,
   "metadata": {},
   "outputs": [],
   "source": [
    "def divideAndConquerPairs(T):\n",
    "    \"\"\"\n",
    "        input   : list T\n",
    "        returns : dominant item in T or None if it exists and None otherwise\n",
    "    \"\"\"\n",
    "    if len(T)==0:\n",
    "        return None\n",
    "    if len(T)==1:\n",
    "        return T[0]\n",
    "    if len(T)%2 == 1 and isDominant(T[-1],T):   # in the odd case, last one could be \"tipping\" the dominance\n",
    "        return T[-1]        \n",
    "    \n",
    "    halfT = [ t1 for t1,t2 in zip(T[::2],T[1::2]) if t1==t2 ]\n",
    "    candidate = divideAndConquerPairs(halfT)\n",
    "    if isDominant(candidate,T):\n",
    "        return candidate"
   ]
  },
  {
   "cell_type": "code",
   "execution_count": 42,
   "metadata": {},
   "outputs": [
    {
     "name": "stdout",
     "output_type": "stream",
     "text": [
      "Random table T:\n",
      " [2, 1, 1, 2, 0, 1, 0, 1, 0, 2] \n",
      "\n",
      "Number of 0s : 3, 1s : 4, 2s : 3\n",
      "Dominant term by divide and conquer:  None\n"
     ]
    }
   ],
   "source": [
    "# create a table of size Tsize filled randomly with 0, 1, 2\n",
    "Tsize = 10 \n",
    "T = [random.randint(0, 2) for _ in range(Tsize)]\n",
    "\n",
    "# print info and check for a dominant element\n",
    "print(\"Random table T:\\n\",T,\"\\n\")\n",
    "print(\"Number of 0s : {}, 1s : {}, 2s : {}\".format(T.count(0), T.count(1), T.count(2)))\n",
    "\n",
    "print(\"Dominant term by divide and conquer: \",divideAndConquerPairs(T))"
   ]
  },
  {
   "cell_type": "markdown",
   "metadata": {},
   "source": [
    "For this code, say in the even $n$ case, $C(n)=C(n/2)+n$ so that, by the master theorem,\n",
    "$$C(n)=O(n)$$"
   ]
  },
  {
   "cell_type": "markdown",
   "metadata": {},
   "source": [
    "# 2. Multiplying large integers – The Karatsuba algorithm"
   ]
  },
  {
   "cell_type": "markdown",
   "metadata": {},
   "source": [
    "## 2.1. Naive algorithm\n",
    "\n",
    "To compute the product of two large integers $A$ and $B$, an idea is to use the binary representation of each as $A=A_1A_2$ and $B=B_1B_2$ on $2\\times n/2$ bits and see that\n",
    "$$AB = (A_1B_1)\\cdot 2^n + (A_1B_2+A_2B_1)\\cdot 2^{n/2}+A_2B_2$$\n",
    "which reduces the calculations to the products $A_1B_1$, $A_1B_2$, $A_2B_1$ and $A_2B_2$, since the products by powers of two are just bit shifts, which we assume can be performed in constant time.\n",
    "\n",
    "\n",
    "The cost $C(n)$ for multiplying two $n$-bit numbers is then $C(n)=4\\cdot C(n/2)+O(1)$, that is (by the master theorem):\n",
    "$$C(n)=O(n^2).$$"
   ]
  },
  {
   "cell_type": "code",
   "execution_count": 113,
   "metadata": {},
   "outputs": [],
   "source": [
    "def toBinaryString(i):\n",
    "    \"\"\"\n",
    "        converts the given number i to a binary string\n",
    "    \"\"\"\n",
    "    return bin(i)[2:]\n",
    "\n",
    "def naiveProduct(A, B):\n",
    "    \"\"\"\n",
    "        Naive multiplication algorithm\n",
    "        input   : binary strings A, B\n",
    "        returns : the product AB of the two numbers as a binary string\n",
    "    \"\"\"\n",
    "    len_A = len(A)\n",
    "    len_B = len(B)\n",
    "    \n",
    "    if min(len_A, len_B) == 0:\n",
    "        return '0'\n",
    "    \n",
    "    # base case : a contains a single digit\n",
    "    if len_A == 1:\n",
    "        return B if A[0] == '1' else '0'\n",
    "\n",
    "    # base case : b contains a single digit    \n",
    "    if len_B == 1:\n",
    "        return A if B[0] == '1' else '0'\n",
    "    \n",
    "    center_A = len_A // 2\n",
    "    center_B = len_B // 2\n",
    "\n",
    "    #be careful to properly fill with zeros; convert to int to perform addition, then back to a binary string\n",
    "    return toBinaryString(int(naiveProduct(A[center_A:], B[center_B:]), 2) +\\\n",
    "               int(naiveProduct(A[:center_A], B[:center_B]) + ('0' * (len_A - center_A + len_B - center_B)), 2) +\\\n",
    "               int(naiveProduct(A[center_A:], B[:center_B]) + ('0' * (len_B - center_B)), 2) +\\\n",
    "               int(naiveProduct(A[:center_A], B[center_B:]) + ('0' * (len_A - center_A)), 2))\n",
    "    "
   ]
  },
  {
   "cell_type": "code",
   "execution_count": 114,
   "metadata": {},
   "outputs": [
    {
     "name": "stdout",
     "output_type": "stream",
     "text": [
      "1001110110\n",
      "1001110110\n"
     ]
    }
   ],
   "source": [
    "A, B = 45, 14\n",
    "\n",
    "print(naiveProduct(toBinaryString(A), toBinaryString(B)))\n",
    "print(toBinaryString(A*B))"
   ]
  },
  {
   "cell_type": "markdown",
   "metadata": {},
   "source": [
    "## 2.2. Karatsuba\n",
    "\n",
    "Here we observe that \n",
    "$$(A_1 + A_2)(B_1 + B_2) = A_1 B_1 + A_2 B_2 + (A_1 B_2 + A_2 B_1 )$$\n",
    "so that $A_1 B_2 + A_2 B_1$ can be computed as $(A_1 + A_2)(B_1 + B_2) - A_1 B_1 - A_2 B_2$, which reduces the number of products to compute from $4$ to $3$.\n",
    "\n",
    "The resulting cost $C(n)$ of multiplying two n-bit numbers is\n",
    "$$ C(n) = 3C(n/2)+O(1) $$\n",
    "or equivalently\n",
    "$$ C(n) = O(n^{\\log_2(3)})$$\n"
   ]
  },
  {
   "cell_type": "code",
   "execution_count": 109,
   "metadata": {},
   "outputs": [],
   "source": [
    "def karatsuba(A,B):\n",
    "    \"\"\"\n",
    "        Karatsuba's multiplication algorithm\n",
    "        input   : binary strings A, B\n",
    "        returns : product AB as a binary string\n",
    "    \"\"\"\n",
    "    # fill with zeros if necessary\n",
    "    l = max(len(A), len(B))\n",
    "    A = A.zfill(l)\n",
    "    B = B.zfill(l)\n",
    "\n",
    "    # base cases\n",
    "    if l == 0:\n",
    "        return '0'\n",
    "    \n",
    "    if l == 1:\n",
    "        return B if A[0] == '1' else '0'\n",
    "\n",
    "    center = l // 2\n",
    "    \n",
    "    P1 = naiveProduct(A[center:], B[center:])\n",
    "    P2 = naiveProduct(A[:center], B[:center])\n",
    "    P3 = naiveProduct(bin(int(A[center:], 2) + int(A[:center], 2))[2:], \\\n",
    "                      bin(int(B[center:], 2) + int(B[:center], 2))[2:])\n",
    "    \n",
    "    return toBinaryString(int(P1, 2) +\\\n",
    "               int(P2 + ('0' * (2*(l-center))), 2) +\\\n",
    "               int(P3 + ('0' * (l-center)), 2) - int(P1 + ('0' * (l-center)), 2) - int(P2 + ('0' * (l-center)), 2))"
   ]
  },
  {
   "cell_type": "code",
   "execution_count": 110,
   "metadata": {},
   "outputs": [
    {
     "name": "stdout",
     "output_type": "stream",
     "text": [
      "110110110011011\n",
      "110110110011011\n"
     ]
    }
   ],
   "source": [
    "A, B = 199, 141\n",
    "\n",
    "print(karatsuba(bin(A)[2:], bin(B)[2:]))\n",
    "print(bin(A*B)[2:])"
   ]
  },
  {
   "cell_type": "markdown",
   "metadata": {},
   "source": [
    "## EXTRAS"
   ]
  },
  {
   "cell_type": "markdown",
   "metadata": {},
   "source": [
    "### Reminder of the Master Theorem\n",
    "\n",
    "If\n",
    "$$C(n)=a C\\left({\\frac {n}{b}}\\right)+O(n^{d}) $$\n",
    "then,\n",
    "  * if $d < \\log_b a$, $$C(n)=O(n^{\\log _{b}a})$$\n",
    "  * if $d = \\log_b ⁡a$, $$C(n)=O(n^d \\log ⁡n )$$\n",
    "  * if $d > \\log_b ⁡a$, $$C(n)=O(n^d).$$ "
   ]
  }
 ],
 "metadata": {
  "kernelspec": {
   "display_name": "Python 3",
   "language": "python",
   "name": "python3"
  },
  "language_info": {
   "codemirror_mode": {
    "name": "ipython",
    "version": 3
   },
   "file_extension": ".py",
   "mimetype": "text/x-python",
   "name": "python",
   "nbconvert_exporter": "python",
   "pygments_lexer": "ipython3",
   "version": "3.10.8 (tags/v3.10.8:aaaf517, Oct 11 2022, 16:50:30) [MSC v.1933 64 bit (AMD64)]"
  },
  "vscode": {
   "interpreter": {
    "hash": "5f0bf9187a3464cf65c2d842878e72be50a110f317e78f034df3ffd9ef5c1ecb"
   }
  }
 },
 "nbformat": 4,
 "nbformat_minor": 4
}
