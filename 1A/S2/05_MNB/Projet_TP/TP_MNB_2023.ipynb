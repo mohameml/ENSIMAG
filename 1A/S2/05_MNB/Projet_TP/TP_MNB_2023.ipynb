{
 "cells": [
  {
   "cell_type": "markdown",
   "metadata": {},
   "source": [
    "   # TP de Méthodes Numériques : \n",
    "   # Simulation d'une chaîne d'oscillateurs non linéaires"
   ]
  },
  {
   "cell_type": "markdown",
   "metadata": {},
   "source": [
    "On considère un système de $n$ oscillateurs couplés, régi par une\n",
    "équation différentielle du second ordre dans $\\mathbb{R}^n$ :\n",
    "\\begin{equation}\n",
    "\\frac{d^2u}{dt^2}+C\\, \\frac{du}{dt}=f(u) \\quad (1)\n",
    "\\end{equation}\n",
    "avec $u(t)= (u_1(t), u_2(t), \\ldots , u_n(t))^T \\in \\mathbb{R}^n$, \n",
    "$f\\, : \\mathbb{R}^n \\rightarrow \\mathbb{R}^n$ fonction de classe $C^2$ et\n",
    "$$\n",
    "C\\in M_n(\\mathbb{R}) \\ \\ \n",
    "\\mbox{symétrique définie positive.}\n",
    "$$\n",
    "Nous allons simuler numériquement des équations de la forme (1) à l'aide du schéma\n",
    "aux différences finies centré implicite\n",
    "\\begin{equation}\n",
    "\\frac{u^{(k+1)}-2u^{(k)}+u^{(k-1)}}{h^2}+C\\, \\frac{u^{(k+1)}-u^{(k-1)}}{2\\, h}=f(u^{(k)})\n",
    "\\quad (2)\n",
    "\\end{equation}\n",
    "où $h>0$ est le pas de discrétisation et $u^{(k)}$ une approximation de $u(k\\, h)$.\n",
    "\n",
    "En introduisant la variable auxiliaire \n",
    "$$\n",
    "v=\\frac{du}{dt}+C\\, u,\n",
    "$$\n",
    "l'équation différentielle du second ordre (1) est équivalente à celle du premier ordre dans $\\mathbb{R}^n \\times \\mathbb{R}^n$\n",
    "\\begin{equation}\n",
    "\\left\\{\n",
    "\\begin{array}{lll}\n",
    "u'&=& v-C\\, u, \\\\\n",
    "v' &=& f(u),\n",
    "\\end{array}\n",
    "\\right.\n",
    "\\quad (3)\n",
    "\\end{equation}\n",
    "pour laquelle nous donnerons une reformulation du schéma (2).\n",
    "\n",
    "Les schémas numériques mis en oeuvre nous permettront \n",
    "d'étudier la convergence de différents systèmes vers un état d'équilibre\n",
    "et certains phénomènes transitoires. \n",
    "Une solution d'équilibre $u^\\ast \\in \\mathbb{R}^n$ de (1) est une solution indépendante de $t$,\n",
    "caractérisée par la propriété $f(u^\\ast)=0$. De manière équivalente, une \n",
    "solution d'équilibre $(u^\\ast , v^\\ast) \\in \\mathbb{R}^n \\times \\mathbb{R}^n$ de (3)\n",
    "est caractérisée par\n",
    "$$\n",
    "f(u^\\ast)=0, \\quad v^\\ast = C\\, u^\\ast.\n",
    "$$"
   ]
  },
  {
   "cell_type": "markdown",
   "metadata": {},
   "source": [
    "## 1. Reformulation et étude du schéma centré"
   ]
  },
  {
   "cell_type": "markdown",
   "metadata": {},
   "source": [
    "Etant donné une condition initiale \n",
    "$$\n",
    "(u(0),v(0)) = \n",
    "(u^{(0)},v^{(0)}),\n",
    "$$\n",
    "on souhaite calculer numériquement $(u(t),v(t))$ pour $t \\in [0,T]$.\n",
    "On approche $(u(kh),v(kh))$ par la solution $(u^{(k)},v^{(k)})$ du schéma suivant\n",
    "\\begin{equation}\n",
    "\\forall k\\geq 0, \\quad \n",
    "\\left\\{\n",
    "\\begin{array}{lllr}\n",
    "v^{(k+1/2)}&=&v^{(k)}+\\frac{h}{2}\\, f(u^{(k)}) & (a) \\\\\n",
    "u^{(k+1)}&=&u^{(k)}+h\\, v^{(k+1/2)} -h\\, C\\,  \\frac{u^{(k+1)}+u^{(k)}}{2} & (b)\\\\\n",
    "v^{(k+1)}&=&v^{(k+1/2)}+\\frac{h}{2}\\, f(u^{(k+1)}). & (c)\n",
    "\\end{array}\n",
    "\\right.\n",
    "\\quad (4)\n",
    "\\end{equation}\n",
    "A chaque itération, il est nécessaire de résoudre l'équation (4)-(b) pour $u^{(k+1)}$, qui correspond au système linéaire\n",
    "$$\n",
    "A\\, u^{(k+1)} = \\big(I-\\frac{h}{2}\\, C\\big)\\, u^{(k)}+h\\, v^{(k+1/2)}\n",
    "$$\n",
    "de matrice symétrique définie positive\n",
    "$$\n",
    "A=I+\\frac{h}{2}\\, C. \\quad (5)\n",
    "$$"
   ]
  },
  {
   "cell_type": "markdown",
   "metadata": {},
   "source": [
    "#### Question 1 \n",
    "Montrer que la condition initiale et la\n",
    "relation de récurrence (4) déterminent la suite $(u^{(k)},v^{(k)})_{k \\geq 0}$."
   ]
  },
  {
   "cell_type": "markdown",
   "metadata": {},
   "source": [
    "Réponse : "
   ]
  },
  {
   "cell_type": "markdown",
   "metadata": {},
   "source": [
    "On notera $\\varphi\\, : \\big(\\mathbb{R}^n \\big)^2 \\rightarrow \\big(\\mathbb{R}^n \\big)^2$ \n",
    "l'application définie par (4)\n",
    "$$(u^{(k)},v^{(k)}) \\mapsto \\varphi (u^{(k)},v^{(k)})= (u^{(k+1)},v^{(k+1)}).$$"
   ]
  },
  {
   "cell_type": "markdown",
   "metadata": {},
   "source": [
    "#### Question 2 \n",
    "Montrer que toute solution de (4) vérifie (2) pour tout $k\\geq 1$."
   ]
  },
  {
   "cell_type": "markdown",
   "metadata": {},
   "source": [
    "Réponse : "
   ]
  },
  {
   "cell_type": "markdown",
   "metadata": {},
   "source": [
    "#### Question 3\n",
    "Vérifier que les points fixes de $\\varphi$ sont les équilibres $(u^\\ast , v^\\ast)$ de (3)."
   ]
  },
  {
   "cell_type": "markdown",
   "metadata": {},
   "source": [
    "Réponse : "
   ]
  },
  {
   "cell_type": "markdown",
   "metadata": {},
   "source": [
    "#### Question 4\n",
    "Déterminer l'ordre de consistance du schéma (4)."
   ]
  },
  {
   "cell_type": "markdown",
   "metadata": {},
   "source": [
    "Réponse : "
   ]
  },
  {
   "cell_type": "markdown",
   "metadata": {},
   "source": [
    "#### Question 5\n",
    "On admet que lorsque $f$ est lipschitzienne sur $\\mathbb{R}^n$,\n",
    "le schéma (4) est stable par rapport aux erreurs sur l'intervalle $[0,T]$.\n",
    "Justifier dans ce cas la convergence du schéma (4) lorsque $h\\rightarrow 0$ et donner son ordre de convergence."
   ]
  },
  {
   "cell_type": "markdown",
   "metadata": {},
   "source": [
    "Réponse : "
   ]
  },
  {
   "cell_type": "markdown",
   "metadata": {},
   "source": [
    "## 2. Test du schéma pour un oscillateur linéaire"
   ]
  },
  {
   "cell_type": "markdown",
   "metadata": {},
   "source": [
    "On considère l'équation (1) pour $u(t) \\in \\mathbb{R}$, $C>0$ et \n",
    "$$f(u)=1-u.$$\n",
    "Ce système décrit par exemple le déplacement d'un ressort linéaire amorti soumis à une force constante unitaire.\n",
    "Les solutions $u(t)$ de (1) peuvent être calculées explicitement dans ce cas (l'équation est linéaire non homogène à coefficients constants). Ce calcul permet de tester le schéma (4) avant de l'appliquer aux exemples plus complexes étudiés dans les sections 3 et 4."
   ]
  },
  {
   "cell_type": "markdown",
   "metadata": {},
   "source": [
    "#### Question 6\n",
    "Calculer la solution d'équilibre $(u^\\ast , v^\\ast)$ de (3)."
   ]
  },
  {
   "cell_type": "markdown",
   "metadata": {},
   "source": [
    "Réponse : "
   ]
  },
  {
   "cell_type": "code",
   "execution_count": null,
   "metadata": {
    "collapsed": true
   },
   "outputs": [],
   "source": [
    "%matplotlib inline\n",
    "import matplotlib.pyplot as plt\n",
    "from matplotlib.animation import FuncAnimation\n",
    "import numpy as np"
   ]
  },
  {
   "cell_type": "markdown",
   "metadata": {},
   "source": [
    "#### Question 7\n",
    "Ecrire une fonction **iter** qui calcule la solution $[u^{(k+1)},v^{(k+1)}]$ de (4)\n",
    "en fonction des arguments $[u^{(k)}$, $v^{(k)}]$ et $h$.\n",
    "Pour des valeurs de votre choix de $C$ et $h$,\n",
    "tester cette fonction sur le vecteur $[u^{(k)}$, $v^{(k)}]=[u^{\\ast}$, $v^{\\ast}]$."
   ]
  },
  {
   "cell_type": "code",
   "execution_count": null,
   "metadata": {
    "collapsed": true
   },
   "outputs": [],
   "source": []
  },
  {
   "cell_type": "markdown",
   "metadata": {},
   "source": [
    "#### Question 8\n",
    "Ecrire une fonction **solnum** (prenant en arguments\n",
    "la condition initiale $[u(0),v(0)]$, le temps maximal d'intégration $T$ et le pas $h$)\n",
    "qui calcule la solution numérique $[u^{(k)},v^{(k)}]$\n",
    "aux temps $t_k = k\\, h \\in [0,T]$, c'est à dire jusqu'à l'itéré \n",
    "$k_{\\mathrm{max}}=\\mathrm{E}(T/h)$ où $\\mathrm{E}$ désigne la partie entière.\n",
    "La fonction fournit en sortie\n",
    "les valeurs de $[u^{(k)},v^{(k)}]$ pour $0 \\leq k \\leq k_{\\mathrm{max}}$\n",
    "sous la forme d'une matrice de taille $2 \\times (k_{\\mathrm{max}}+1)$.\n",
    "Pour des valeurs de votre choix de $C$, $T$ et $h$,\n",
    "tester cette fonction sur la condition initiale $[u(0), v(0)]=[u^{\\ast}, v^{\\ast}]$."
   ]
  },
  {
   "cell_type": "code",
   "execution_count": null,
   "metadata": {
    "collapsed": true
   },
   "outputs": [],
   "source": []
  },
  {
   "cell_type": "markdown",
   "metadata": {},
   "source": [
    "Dans les questions 9 à 11, on fixe $C=0.3$ et\n",
    "on suppose le système initialement au repos :\n",
    "$$\n",
    "u(0)=0, \\quad u^\\prime (0)=0, \\quad (6)\n",
    "$$\n",
    "et donc $v(0)=0$."
   ]
  },
  {
   "cell_type": "markdown",
   "metadata": {},
   "source": [
    "#### Question 9\n",
    "Calculer la solution explicite $(u(t),v(t))$ de (3) pour cette condition initiale.\n",
    "Que vaut $\\lim_{t\\rightarrow +\\infty}(u(t),v(t))$ ?\n",
    "Ecrire une fonction **solexacte** prenant en argument un vecteur de temps $[t_k ]_{0\\leq k \\leq k_{\\mathrm{max}}}$,\n",
    "qui évalue cette solution aux temps $t_k$ en stockant les valeurs dans\n",
    "une matrice de taille $2 \\times (k_{\\mathrm{max}}+1)$. "
   ]
  },
  {
   "cell_type": "markdown",
   "metadata": {},
   "source": [
    "Réponse (calcul explicite) :"
   ]
  },
  {
   "cell_type": "code",
   "execution_count": null,
   "metadata": {
    "collapsed": true
   },
   "outputs": [],
   "source": []
  },
  {
   "cell_type": "markdown",
   "metadata": {},
   "source": [
    "#### Question 10\n",
    "On fixe $T=25$. Tracer le graphe de l'erreur globale\n",
    "$$\\mathrm{Err}\\,(h)=\\mathrm{max}_{0\\leq k \\leq k_{\\mathrm{max}}}\\| (u^{(k)},v^{(k)})-(u(t_k),v(t_k)) \\|_2$$\n",
    "pour $h \\in [10^{-5}, 10^{-1}]$ en utilisant une échelle logarithmique.\n",
    "Retrouvez-vous l'ordre de convergence obtenu dans la question 5 ?"
   ]
  },
  {
   "cell_type": "code",
   "execution_count": null,
   "metadata": {
    "collapsed": true
   },
   "outputs": [],
   "source": []
  },
  {
   "cell_type": "markdown",
   "metadata": {},
   "source": [
    "#### Question 11\n",
    "Etudier numériquement pour quelles valeurs de $h >0$ on a \n",
    "$\\lim_{k\\rightarrow +\\infty}{(u^{(k)},v^{(k)})}=\\lim_{t\\rightarrow +\\infty}(u(t),v(t))$.\n",
    "Pour cela, on pourra afficher pour différentes valeurs de $h$, et sur des intervalles de temps $[0,T]$ bien choisis,\n",
    "les graphes de $u^{(k)}$ et $v^{(k)}$ en fonction de $t_k$."
   ]
  },
  {
   "cell_type": "code",
   "execution_count": null,
   "metadata": {
    "collapsed": true
   },
   "outputs": [],
   "source": []
  },
  {
   "cell_type": "markdown",
   "metadata": {},
   "source": [
    "## 3. Oscillateur non linéaire soumis à une force constante"
   ]
  },
  {
   "cell_type": "markdown",
   "metadata": {},
   "source": [
    "On considère l'équation (1) pour $u(t) \\in \\mathbb{R}$, $C>0$ et \n",
    "$$f(u)=1-u^3.$$\n",
    "Ce système décrit le déplacement d'un ressort non-linéaire (non-linéarité cubique)\n",
    "avec amortissement linéaire, sous l'action d'une force constante unitaire."
   ]
  },
  {
   "cell_type": "markdown",
   "metadata": {},
   "source": [
    "#### Question 12\n",
    "Calculer la solution d'équilibre $(u^\\ast , v^\\ast)$ de (3)."
   ]
  },
  {
   "cell_type": "markdown",
   "metadata": {},
   "source": [
    "Réponse : "
   ]
  },
  {
   "cell_type": "markdown",
   "metadata": {},
   "source": [
    "#### Question 13\n",
    "Pour un oscillateur initialement au repos (condition initiale (6)),\n",
    "on calcule numériquement la solution de (3) sur l'intervalle de temps $[0,T]$ \n",
    "en utilisant le schéma (4). On choisit $T=30$ et le pas de temps $h=10^{-3}$.\n",
    "Pour différentes valeurs de $C$, tracer les graphes de $u^{(k)}$ et $v^{(k)}$ en fonction de $t_k$.\n",
    "Etudier numériquement pour quelles valeurs de $C$ la convergence vers l'équilibre s'effectue\n",
    "de manière monotone (régime sur-amorti), et pour quelles valeurs du paramètre cette convergence est oscillante (régime sous-amorti)."
   ]
  },
  {
   "cell_type": "code",
   "execution_count": null,
   "metadata": {
    "collapsed": true
   },
   "outputs": [],
   "source": []
  },
  {
   "cell_type": "markdown",
   "metadata": {},
   "source": [
    "## 4. Chaîne d'oscillateurs non linéaires forcée à une extrémité"
   ]
  },
  {
   "cell_type": "markdown",
   "metadata": {},
   "source": [
    "On étudie l'équation (1) avec $C=\\mu\\, K$ où\n",
    "$\\mu >0$ est un paramètre \n",
    "et la matrice $K\\in M_n (\\mathbb{R})$ ($n \\geq 2$) s'écrit:\n",
    "$$\n",
    "K =\\left(\n",
    "\\begin{array}{cccccc}\n",
    " 2  & -1 & 0 & 0 & \\ldots & 0 \\\\\n",
    " -1 & 2  & -1 & 0 & & \\vdots \\\\\n",
    "0 & -1 & 2  & -1 & \\ddots & \\vdots \\\\\n",
    "\\vdots & 0 & -1 & \\ddots & \\ddots & 0 \\\\\n",
    "\\vdots & & \\ddots & \\ddots & 2 & -1 \\\\\n",
    "0 & \\ldots & \\ldots & 0 & -1 & 1 \n",
    "\\end{array} \\right).\n",
    "$$\n",
    "On fixe par ailleurs\n",
    "$$\n",
    "f(u)= -K\\, u^3 + e_1 \\quad (7)\n",
    "$$\n",
    "où $e_1 = (1,0,0,\\ldots , 0)^T$ est le premier vecteur de la base canonique de $\\mathbb{R}^n$\n",
    "et on note\n",
    "$$\n",
    "u^3=(u_1^3, u_2^3, \\ldots , u_n^3)^T.\n",
    "$$\n",
    "Ce système décrit une chaîne de $n$ oscillateurs non linéaires cubiques\n",
    "(du même type que dans la section 3) couplés à leurs proches voisins.\n",
    "Une extrémité de la chaîne est soumise à une force constante unitaire, l'autre\n",
    "extrémité étant fixe."
   ]
  },
  {
   "cell_type": "markdown",
   "metadata": {},
   "source": [
    "#### Question 14\n",
    "Montrer que la matrice $K$ est symétrique définie positive."
   ]
  },
  {
   "cell_type": "markdown",
   "metadata": {},
   "source": [
    "Réponse : "
   ]
  },
  {
   "cell_type": "markdown",
   "metadata": {},
   "source": [
    "#### Question 15\n",
    "Montrer que l'équation (3) admet une unique solution d'équilibre $(u^\\ast , v^\\ast) \\in \\mathbb{R}^n \\times \\mathbb{R}^n$ qu'on calculera explicitement."
   ]
  },
  {
   "cell_type": "markdown",
   "metadata": {},
   "source": [
    "Réponse : "
   ]
  },
  {
   "cell_type": "markdown",
   "metadata": {},
   "source": [
    "On veut approcher numériquement la solution $(u(t),v(t))$\n",
    "de (3) pour une condition initiale $(u(0),v(0))$ donnée et $t \\in [0,T]$\n",
    "en utilisant le schéma (4)."
   ]
  },
  {
   "cell_type": "markdown",
   "metadata": {},
   "source": [
    "#### Question 16\n",
    "Définir une fonction **fvec** qui à un vecteur $u$ associe le vecteur $f(u)$ défini par (7).\n",
    "Tester cette fonction sur le vecteur $u^\\ast$."
   ]
  },
  {
   "cell_type": "code",
   "execution_count": null,
   "metadata": {
    "collapsed": true
   },
   "outputs": [],
   "source": []
  },
  {
   "cell_type": "markdown",
   "metadata": {},
   "source": [
    "#### Question 17\n",
    "Ecrire une fonction **factorise** (prenant en arguments $n$, $\\mu$ et $h$) qui calcule\n",
    "la factorisation $A = L\\, U = L\\, D\\, L^t$ de la matrice tridiagonale symétrique définie positive $A$ définie par (5).\n",
    "On rappelle que $L$ et $D$ sont de la forme\n",
    "$$\n",
    "L =\\left(\n",
    "\\begin{array}{cccccc}\n",
    " 1  & 0 & 0 & 0 & \\ldots & 0 \\\\\n",
    " l_0 & 1  & 0 & 0 & & \\vdots \\\\\n",
    "0 & l_1 & 1  & 0 & \\ddots & \\vdots \\\\\n",
    "\\vdots & 0 & l_2 & \\ddots & \\ddots & 0 \\\\\n",
    "\\vdots & & \\ddots & \\ddots & \\ddots & 0 \\\\\n",
    "0 & \\ldots & \\ldots & 0 & l_{n-2} & 1 \n",
    "\\end{array} \\right), \\quad\n",
    "D =\\left(\n",
    "\\begin{array}{cccccc}\n",
    " d_0  & 0 & 0 & 0 & \\ldots & 0 \\\\\n",
    " 0 & d_1  & 0 & 0 & & \\vdots \\\\\n",
    "0 & 0 & d_2  & 0 & \\ddots & \\vdots \\\\\n",
    "\\vdots & 0 & 0 & \\ddots & \\ddots & 0 \\\\\n",
    "\\vdots & & \\ddots & \\ddots & \\ddots & 0 \\\\\n",
    "0 & \\ldots & \\ldots & 0 & 0 & d_{n-1} \n",
    "\\end{array} \\right)\n",
    "$$\n",
    "avec $d_{i}>0$.\n",
    "La fonction fournit en sortie deux vecteurs contenant \n",
    "les coefficients sous-diagonaux de $L$ et diagonaux de $D$.\n",
    "Tester cette fonction pour des valeurs de votre choix de $n$, $\\mu$ et $h$."
   ]
  },
  {
   "cell_type": "code",
   "execution_count": null,
   "metadata": {
    "collapsed": true
   },
   "outputs": [],
   "source": []
  },
  {
   "cell_type": "markdown",
   "metadata": {},
   "source": [
    "#### Question 18\n",
    "\n",
    "Ecrire une fonction **solchaine**\n",
    "(prenant en arguments la condition initiale $(u(0),v(0))$, le temps maximal d'intégration $T$ et le pas $h$)\n",
    "qui calcule la solution numérique $(u^{(k)},v^{(k)})$ aux temps $t_k = k\\, h \\in [0,T]$.\n",
    "La fonction fournit en sortie\n",
    "les valeurs de $u^{(k)}$, $v^{(k)}$ pour $0 \\leq k \\leq k_{\\mathrm{max}}$\n",
    "sous la forme de deux matrices de taille $n \\times (k_{\\mathrm{max}}+1)$ \n",
    "$$\n",
    "[u^{(0)},u^{(1)},\\ldots , u^{(k_{\\mathrm{max}})}], \\quad\n",
    "[v^{(0)},v^{(1)},\\ldots , v^{(k_{\\mathrm{max}})}].\n",
    "$$\n",
    "La factorisation $A=L\\, D\\, L^t$ est calculée avant de démarrer les itérations (4), puis\n",
    "à chaque itération on résout l'équation (4)-(b) par simple descente/remontée.\n",
    "Tester cette fonction sur la condition initiale $[u(0), v(0)]=[u^{\\ast}, v^{\\ast}]$\n",
    "pour des valeurs de votre choix de $n$, $\\mu$, $T$ et $h$."
   ]
  },
  {
   "cell_type": "code",
   "execution_count": null,
   "metadata": {
    "collapsed": true
   },
   "outputs": [],
   "source": []
  },
  {
   "cell_type": "markdown",
   "metadata": {},
   "source": [
    "Dans les questions 19 et 20, on simule le système (1) pour la condition initiale (6) correspondant à la chaîne au repos.\n",
    "On note $u_{\\mathrm{app}}(j,t_k)$ l'approximation numérique de la solution $u_j(t_k)$ de (1)-(6),\n",
    "et $u^\\prime_{\\mathrm{app}}(j,t_k)$ celle de $u_j^\\prime(t_k)$. On a donc\n",
    "$$\n",
    "u^\\prime_{\\mathrm{app}}(.,t_k) = v^{(k)}-\\mu\\, K\\, u^{(k)}.\n",
    "$$"
   ]
  },
  {
   "cell_type": "markdown",
   "metadata": {},
   "source": [
    "#### Question 19\n",
    "On choisit comme pas d'intégration $h=10^{-3}$.\n",
    "Pour $n=5$ et $\\mu = 0.5$, calculer la solution numérique de (1)-(6) sur un intervalle $[0,T]$ bien choisi et\n",
    "tracer les graphes de $u_{\\mathrm{app}}(j,t)$ et $u^\\prime_{\\mathrm{app}}(j,t)$ en fonction de $t$\n",
    "pour $j=1,3,5$ (i.e. pour les oscillateurs situés en début, milieu et fin de chaîne).\n",
    "Quel est l'ordre de grandeur du temps $t_{\\mathrm{eq}}$ nécessaire pour atteindre un état proche de l'équilibre ?\n",
    "On pourra fixer comme critère\n",
    "$\\| u(t)-u^\\ast \\|_\\infty < 10^{-3}$ pour tout $t \\geq t_{\\mathrm{eq}}$.\n",
    "Comparer ce temps à celui observé pour $n=1$ (modèle étudié dans la section 3 avec $C=0.5$)."
   ]
  },
  {
   "cell_type": "code",
   "execution_count": null,
   "metadata": {
    "collapsed": true
   },
   "outputs": [],
   "source": []
  },
  {
   "cell_type": "markdown",
   "metadata": {},
   "source": [
    "#### Question 20\n",
    "\n",
    "Calculer $u_{\\mathrm{app}}$ pour $n=100$ et $\\mu = 5$, en fixant\n",
    "$T=2500$ et $h=10^{-2}$.\n",
    "Décrire les différents phénomènes qu'on peut observer \n",
    "avant que le système atteigne un état voisin de l'équilibre.\n",
    "Pour étayer votre analyse, afficher un échantillon de graphes bien choisis :\n",
    "\n",
    "-graphes des \n",
    "fonctions $t \\mapsto u_{\\mathrm{app}}(j,t)$ à différents noeuds $j$,\n",
    "\n",
    "-graphe de $j \\mapsto u_{\\mathrm{app}}(j,t)$ à différents temps $t$,\n",
    "\n",
    "-graphe animé de $j \\mapsto u_{\\mathrm{app}}(j,t)$ lorsque \n",
    "$t$ décrit l'intervalle $[0,T]$, en utilisant \n",
    "la fonction **FuncAnimation()** du module animation de Matplotlib."
   ]
  },
  {
   "cell_type": "code",
   "execution_count": null,
   "metadata": {
    "collapsed": true
   },
   "outputs": [],
   "source": [
    "# Enable interactive plot\n",
    "%matplotlib notebook"
   ]
  }
 ],
 "metadata": {
  "kernelspec": {
   "display_name": "Python 3 (ipykernel)",
   "language": "python",
   "name": "python3"
  },
  "language_info": {
   "codemirror_mode": {
    "name": "ipython",
    "version": 3
   },
   "file_extension": ".py",
   "mimetype": "text/x-python",
   "name": "python",
   "nbconvert_exporter": "python",
   "pygments_lexer": "ipython3",
   "version": "3.9.13"
  }
 },
 "nbformat": 4,
 "nbformat_minor": 2
}
