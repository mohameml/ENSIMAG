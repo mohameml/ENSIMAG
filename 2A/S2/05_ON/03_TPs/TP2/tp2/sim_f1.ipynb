{
 "cells": [
  {
   "cell_type": "markdown",
   "metadata": {
    "collapsed": true
   },
   "source": [
    "# Simulateur de $f_1$\n",
    "\n",
    "\n",
    "$$\\begin{array}{rrcll}\n",
    "f: & \\mathbb{R}^n & \\to &\\mathbb{R}\\\\\n",
    "& x & \\mapsto  & \\sum_{k=1}^n k x_k^2\n",
    "\\end{array}$$\n"
   ]
  },
  {
   "cell_type": "markdown",
   "metadata": {},
   "source": [
    "### Paramètres"
   ]
  },
  {
   "cell_type": "code",
   "execution_count": 6,
   "metadata": {
    "collapsed": false
   },
   "outputs": [],
   "source": [
    "##### Size parameters\n",
    "n = 2\n",
    "####\n",
    "\n",
    "##### Plot parameters f\n",
    "x1_min = -5\n",
    "x1_max = 5\n",
    "x2_min = -5\n",
    "x2_max = 5\n",
    "nb_points = 200\n",
    "vmin = 0\n",
    "vmax = 30\n",
    "levels = [0.25,1,2,5,10,15]\n",
    "title = 'f1'\n",
    "####"
   ]
  },
  {
   "cell_type": "markdown",
   "metadata": {
    "collapsed": true
   },
   "source": [
    "### Simulateur\n"
   ]
  },
  {
   "cell_type": "code",
   "execution_count": 7,
   "metadata": {
    "collapsed": true
   },
   "outputs": [],
   "source": [
    "import numpy as np\n",
    "\n",
    "def sim(x):\n",
    "    f=0\n",
    "    g=np.zeros(n)\n",
    "    ####################\n",
    "    # A COMPLETER\n",
    "    \n",
    "    ####################\n",
    "    return f,g\n"
   ]
  }
 ],
 "metadata": {
  "kernelspec": {
   "display_name": "Python 3",
   "language": "python",
   "name": "python3"
  },
  "language_info": {
   "codemirror_mode": {
    "name": "ipython",
    "version": 3
   },
   "file_extension": ".py",
   "mimetype": "text/x-python",
   "name": "python",
   "nbconvert_exporter": "python",
   "pygments_lexer": "ipython3",
   "version": "3.4.3"
  }
 },
 "nbformat": 4,
 "nbformat_minor": 1
}
